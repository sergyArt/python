{
 "cells": [
  {
   "cell_type": "code",
   "execution_count": 6,
   "metadata": {},
   "outputs": [
    {
     "name": "stdout",
     "output_type": "stream",
     "text": [
      "3\n",
      "4\n",
      "5\n",
      "9\n",
      "8\n",
      "1\n"
     ]
    }
   ],
   "source": [
    "__author__ = 'Артозеев С.В.'\n",
    "\n",
    "# Задача-1: Дано произвольное целое число (число заранее неизвестно).\n",
    "# Вывести поочередно цифры исходного числа (порядок вывода цифр неважен).\n",
    "# Подсказки:\n",
    "# * постарайтесь решить задачу с применением арифметики и цикла while;\n",
    "# * при желании решите задачу с применением цикла for.\n",
    "\n",
    "# Вариант через цикл while\n",
    "userNumber = str(345981)\n",
    "# or userNumber = input(\"Введите число? \")\n",
    "\n",
    "i = 0\n",
    "while i < len(userNumber):\n",
    "    print(userNumber[i])\n",
    "    i += 1\n"
   ]
  },
  {
   "cell_type": "code",
   "execution_count": 4,
   "metadata": {},
   "outputs": [
    {
     "name": "stdout",
     "output_type": "stream",
     "text": [
      "3\n",
      "4\n",
      "5\n",
      "9\n",
      "8\n",
      "1\n"
     ]
    }
   ],
   "source": [
    "# Вариант через цикл for\n",
    "for i in userNumber:\n",
    "    print(i)\n",
    "    \n",
    "    "
   ]
  },
  {
   "cell_type": "code",
   "execution_count": 12,
   "metadata": {},
   "outputs": [
    {
     "name": "stdout",
     "output_type": "stream",
     "text": [
      "Введите первое число? 4\n",
      "Введите второе число? 5\n",
      "Вы ввели:  4 и 5\n",
      "Мы поменяли:  5 и 4\n"
     ]
    }
   ],
   "source": [
    "# Задача-2: Исходные значения двух переменных запросить у пользователя.\n",
    "# Поменять значения переменных местами. Вывести новые значения на экран.\n",
    "# Подсказка:\n",
    "# * постарайтесь сделать решение через дополнительную переменную \n",
    "#   или через арифметические действия\n",
    "# Не нужно решать задачу так:\n",
    "# print(\"a = \", b, \"b = \", a) - это неправильное решение!\n",
    "\n",
    "userVar1 = int(input(\"Введите первое число? \"))\n",
    "userVar2 = int(input(\"Введите второе число? \"))\n",
    "print(\"Вы ввели: \", userVar1, \"и\", userVar2)\n",
    "\n",
    "# Вариант с дополнительной переменной\n",
    "\n",
    "tempVar = userVar1\n",
    "userVar1 = userVar2\n",
    "userVar2 = tempVar\n",
    "print(\"Мы поменяли: \", userVar1, \"и\", userVar2)"
   ]
  },
  {
   "cell_type": "code",
   "execution_count": 13,
   "metadata": {},
   "outputs": [
    {
     "name": "stdout",
     "output_type": "stream",
     "text": [
      "Мы поменяли:  4 и 5\n"
     ]
    }
   ],
   "source": [
    "# Вариант через дополнительное действие\n",
    "userVar1 = userVar1 + userVar2\n",
    "userVar2 = userVar1 - userVar2\n",
    "userVar1 = userVar1 - userVar2\n",
    "print(\"Мы поменяли: \", userVar1, \"и\", userVar2)"
   ]
  },
  {
   "cell_type": "code",
   "execution_count": 16,
   "metadata": {},
   "outputs": [
    {
     "name": "stdout",
     "output_type": "stream",
     "text": [
      "Сколько вам лет? 34\n",
      "Доступ разрешен!\n"
     ]
    }
   ],
   "source": [
    "# Задача-3: Запросите у пользователя его возраст.\n",
    "# Если ему есть 18 лет, выведите: \"Доступ разрешен\",\n",
    "# иначе \"Извините, пользование данным ресурсом только с 18 лет\"\n",
    "\n",
    "userOld = int(input(\"Сколько вам лет? \"))\n",
    "rigthOld = 18\n",
    "\n",
    "if userOld >= rigthOld:\n",
    "    print(\"Доступ разрешен!\")\n",
    "else:\n",
    "    print(\"Извините, пользование данным ресурсом только с 18 лет.\")"
   ]
  },
  {
   "cell_type": "code",
   "execution_count": null,
   "metadata": {},
   "outputs": [],
   "source": []
  }
 ],
 "metadata": {
  "kernelspec": {
   "display_name": "Python 3",
   "language": "python",
   "name": "python3"
  },
  "language_info": {
   "codemirror_mode": {
    "name": "ipython",
    "version": 3
   },
   "file_extension": ".py",
   "mimetype": "text/x-python",
   "name": "python",
   "nbconvert_exporter": "python",
   "pygments_lexer": "ipython3",
   "version": "3.6.6"
  }
 },
 "nbformat": 4,
 "nbformat_minor": 2
}
