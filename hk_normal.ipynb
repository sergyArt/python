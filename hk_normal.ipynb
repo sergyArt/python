{
 "cells": [
  {
   "cell_type": "code",
   "execution_count": 9,
   "metadata": {},
   "outputs": [
    {
     "name": "stdout",
     "output_type": "stream",
     "text": [
      "Максимальная цифра:  9\n"
     ]
    }
   ],
   "source": [
    "__author__ = 'Артозеев С.В.'\n",
    "\n",
    "# Задача-1: Дано произвольное целое число, вывести самую большую цифру этого числа.\n",
    "# Например, дается x = 58375.\n",
    "# Нужно вывести максимальную цифру в данном числе, т.е. 8.\n",
    "# Подразумевается, что мы не знаем это число заранее.\n",
    "# Число приходит в виде целого беззнакового.\n",
    "# Подсказки:\n",
    "# * постарайтесь решить задачу с применением арифметики и цикла while;\n",
    "# * при желании и понимании решите задачу с применением цикла for\n",
    "\n",
    "x = 653879\n",
    "x = str(x)\n",
    "i = 1\n",
    "max = x[0]\n",
    "while i < len(x):\n",
    "    if x[i] > max:\n",
    "        max = x[i]\n",
    "    i += 1\n",
    "print('Максимальная цифра: ', max)"
   ]
  },
  {
   "cell_type": "code",
   "execution_count": 15,
   "metadata": {},
   "outputs": [
    {
     "name": "stdout",
     "output_type": "stream",
     "text": [
      "Максимальная цифра:  8\n"
     ]
    }
   ],
   "source": [
    "# Вариант через цикл for\n",
    "x = 65387\n",
    "x = str(x)\n",
    "max = int(x[0])\n",
    "for i in x:\n",
    "    if int(i) > max:\n",
    "        max = int(i)\n",
    "print('Максимальная цифра: ', max)"
   ]
  },
  {
   "cell_type": "code",
   "execution_count": 17,
   "metadata": {},
   "outputs": [
    {
     "name": "stdout",
     "output_type": "stream",
     "text": [
      "Введите первое число? 5\n",
      "Введите второе число? 8\n",
      "Вы ввели:  5 и 8\n",
      "Мы поменяли:  8 и 5\n",
      "Мы поменяли:  5 и 8\n"
     ]
    }
   ],
   "source": [
    "# Задача-2: Исходные значения двух переменных запросить у пользователя.\n",
    "# Поменять значения переменных местами. Вывести новые значения на экран.\n",
    "# Решите задачу, используя только две переменные.\n",
    "# Подсказки:\n",
    "# * постарайтесь сделать решение через действия над числами;\n",
    "# * при желании и понимании воспользуйтесь синтаксисом кортежей Python.\n",
    "userVar1 = int(input(\"Введите первое число? \"))\n",
    "userVar2 = int(input(\"Введите второе число? \"))\n",
    "print(\"Вы ввели: \", userVar1, \"и\", userVar2)\n",
    "userVar1 = userVar1 + userVar2\n",
    "userVar2 = userVar1 - userVar2\n",
    "userVar1 = userVar1 - userVar2\n",
    "print(\"Мы поменяли: \", userVar1, \"и\", userVar2)\n",
    "\n",
    "# Через синтаксис кортежей\n",
    "userVar1,userVar2 = userVar2,userVar1\n",
    "print(\"Мы поменяли: \", userVar1, \"и\", userVar2)\n"
   ]
  },
  {
   "cell_type": "code",
   "execution_count": 22,
   "metadata": {},
   "outputs": [
    {
     "name": "stdout",
     "output_type": "stream",
     "text": [
      "Поиск корней уровнения ax^2+bx+c=0\n",
      "Введите коэффицент а: 2\n",
      "Введите коэффицент b: 3\n",
      "Введите коэффицент c: 1\n",
      "Корень x1=  -2.0\n",
      "Корень x2=  -4.0\n"
     ]
    }
   ],
   "source": [
    "# Задача-3: Напишите программу, вычисляющую корни квадратного уравнения вида\n",
    "# ax² + bx + c = 0.\n",
    "# Коэффициенты уравнения вводятся пользователем.\n",
    "# Для вычисления квадратного корня воспользуйтесь функцией sqrt() модуля math:\n",
    "# import math\n",
    "# math.sqrt(4) - вычисляет корень числа 4\n",
    "import math\n",
    "print('Поиск корней уровнения ax^2+bx+c=0')\n",
    "a = float(input('Введите коэффицент а: '))\n",
    "b = float(input('Введите коэффицент b: '))\n",
    "c = float(input('Введите коэффицент c: '))\n",
    "d = b**2 - 4*a*c\n",
    "if d > 0:\n",
    "    x1 = -b + math.sqrt(d)/2*a\n",
    "    x2 = -b - math.sqrt(d)/2*a\n",
    "    print('Корень x1= ', round(x1,2))\n",
    "    print('Корень x2= ', round(x2,2))\n",
    "elif d == 0:\n",
    "    x1 = -b/2*a\n",
    "    print('x1=x1= ', x1)\n",
    "else:\n",
    "    print('У уровнения нет корней!')"
   ]
  },
  {
   "cell_type": "code",
   "execution_count": null,
   "metadata": {},
   "outputs": [],
   "source": []
  }
 ],
 "metadata": {
  "kernelspec": {
   "display_name": "Python 3",
   "language": "python",
   "name": "python3"
  },
  "language_info": {
   "codemirror_mode": {
    "name": "ipython",
    "version": 3
   },
   "file_extension": ".py",
   "mimetype": "text/x-python",
   "name": "python",
   "nbconvert_exporter": "python",
   "pygments_lexer": "ipython3",
   "version": "3.6.6"
  }
 },
 "nbformat": 4,
 "nbformat_minor": 2
}
