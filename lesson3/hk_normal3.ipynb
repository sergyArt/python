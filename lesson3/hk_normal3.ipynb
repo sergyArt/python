{
 "cells": [
  {
   "cell_type": "code",
   "execution_count": 2,
   "metadata": {},
   "outputs": [
    {
     "name": "stdout",
     "output_type": "stream",
     "text": [
      "[2, 3, 5, 8, 13, 21, 34]\n"
     ]
    }
   ],
   "source": [
    "# Задание-1:\n",
    "# Напишите функцию, возвращающую ряд Фибоначчи с n-элемента до m-элемента.\n",
    "# Первыми элементами ряда считать цифры 1 1\n",
    "\n",
    "def fibonachi(n,m):\n",
    "    def fib_num(j):\n",
    "        elem = 1\n",
    "        if j == 1 or j == 2:\n",
    "            elem = 1\n",
    "        else:\n",
    "            elem = fib_num(j-1) + fib_num(j-2)\n",
    "        return elem\n",
    "    lst = []\n",
    "    for i in range(n,m+1):\n",
    "        lst.append(fib_num(i))\n",
    "    return lst\n",
    "\n",
    "\n",
    "\n",
    "print(fibonachi(3,9))"
   ]
  },
  {
   "cell_type": "code",
   "execution_count": 6,
   "metadata": {},
   "outputs": [
    {
     "name": "stdout",
     "output_type": "stream",
     "text": [
      "[1, 4, 5, 8, 1, 2, 67, 98]\n"
     ]
    }
   ],
   "source": [
    "# Задача-2:\n",
    "# Напишите функцию, сортирующую принимаемый список по возрастанию.\n",
    "# Для сортировки используйте любой алгоритм (например пузырьковый).\n",
    "# Для решения данной задачи нельзя использовать встроенную функцию и метод sort()\n",
    "\n",
    "\n",
    "def sort_to_max(lst):\n",
    "    t = False\n",
    "    while t == False:\n",
    "        for i in range(0,len(lst)-1):\n",
    "            if lst[i] > lst[i+1]:\n",
    "                p = lst[i]\n",
    "                lst[i] = lst[i+1]\n",
    "                lst[i+1] = p\n",
    "                t = False\n",
    "            else:\n",
    "                t = True\n",
    "    return lst\n",
    "\n",
    "\n",
    "print(sort_to_max([1,4,5,8,67,98,1,2]))"
   ]
  },
  {
   "cell_type": "code",
   "execution_count": 22,
   "metadata": {},
   "outputs": [
    {
     "name": "stdout",
     "output_type": "stream",
     "text": [
      "[2, 4, 6, 8]\n"
     ]
    }
   ],
   "source": [
    "# Задача-3:\n",
    "# Напишите собственную реализацию стандартной функции filter.\n",
    "# Разумеется, внутри нельзя использовать саму функцию filter.\n",
    "# Функция my_filter в данном примере использует в качестве параметра функцию проверки четности числа\n",
    "# применяет ее к переданному итератору и выводит те его элементы, которые являются четными\n",
    "def even_number(num):\n",
    "    if num % 2 == 0:\n",
    "        return 1\n",
    "    else:\n",
    "        return 0\n",
    "\n",
    "\n",
    "def my_filter(func, lst):\n",
    "    lst1 = []\n",
    "    for i in lst:\n",
    "        if func(i):\n",
    "            lst1.append(i)\n",
    "    return lst1\n",
    "    \n",
    "l = [1,2,4,5,6,7,8]\n",
    "result = my_filter(even_number, l)\n",
    "print(result)\n",
    "    "
   ]
  },
  {
   "cell_type": "code",
   "execution_count": 8,
   "metadata": {},
   "outputs": [
    {
     "name": "stdout",
     "output_type": "stream",
     "text": [
      "True\n",
      "False\n"
     ]
    }
   ],
   "source": [
    "# Задача-4:\n",
    "# Даны четыре точки А1(х1, у1), А2(x2 ,у2), А3(x3 , у3), А4(х4, у4).\n",
    "# Определить, будут ли они вершинами параллелограмма.\n",
    "\n",
    "# Задачу решаем через признак параллерограмма, что: сумма квадратов диоганалей равна сумме квадратов сторон\n",
    "#\n",
    "def is_parallerogram(lst):\n",
    "    ax = lst[0][0]\n",
    "    ay = lst[0][1]\n",
    "    bx = lst[1][0]\n",
    "    by = lst[1][1]\n",
    "    cx = lst[2][0]\n",
    "    cy = lst[2][1]\n",
    "    dx = lst[3][0]\n",
    "    dy = lst[3][1]\n",
    "    if ((ax - dx)**2 + (ay - dy)**2) + ((bx - cx)**2 + (by - cy)**2) == (2*((bx - ax)**2 + (by - ay)**2) + 2*((ax - cx)**2 + (ay - cy)**2)) or (((ax - cx)**2 + (ay - cy)**2) + ((bx - dx)**2 +(by - dy)**2) == 2*((ax - dx)**2 + (ay - dy)**2) + 2*((bx - ax)**2 + (by - ay)**2)):\n",
    "        return True\n",
    "    else:\n",
    "        return False\n",
    "\n",
    "print(is_parallerogram([[1,1],[1,4],[4,1],[4,4]]))\n",
    "print(is_parallerogram([[3,1],[2,2],[4,2],[3,5]]))"
   ]
  },
  {
   "cell_type": "code",
   "execution_count": null,
   "metadata": {},
   "outputs": [],
   "source": []
  }
 ],
 "metadata": {
  "kernelspec": {
   "display_name": "Python 3",
   "language": "python",
   "name": "python3"
  },
  "language_info": {
   "codemirror_mode": {
    "name": "ipython",
    "version": 3
   },
   "file_extension": ".py",
   "mimetype": "text/x-python",
   "name": "python",
   "nbconvert_exporter": "python",
   "pygments_lexer": "ipython3",
   "version": "3.6.6"
  }
 },
 "nbformat": 4,
 "nbformat_minor": 2
}
