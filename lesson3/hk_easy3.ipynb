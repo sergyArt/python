{
 "cells": [
  {
   "cell_type": "code",
   "execution_count": 6,
   "metadata": {},
   "outputs": [
    {
     "name": "stdout",
     "output_type": "stream",
     "text": [
      "my_round(12.333,0) 12\n",
      "my_round(12.733,0) 13\n",
      "my_round(12.339,1) 12.3\n",
      "my_round(12.199,1) 12.2\n",
      "my_round(12.333,2) 12.33\n",
      "my_round(12.338,2) 12.34\n",
      "my_round(12.998,2) 13.0\n",
      "my_round(12.998,2) 13.0\n",
      "my_round(-12.333,1) -12.3\n",
      "my_round(-12.393,1) -12.4\n",
      "my_round(-12.339,2) -12.34\n",
      "my_round(-12.998,0) -13\n"
     ]
    }
   ],
   "source": [
    "# Задание-1:\n",
    "# Напишите функцию, округляющую полученное произвольное десятичное число\n",
    "# до кол-ва знаков (кол-во знаков передается вторым аргументом).\n",
    "# Округление должно происходить по математическим правилам (0.6 --> 1, 0.4 --> 0).\n",
    "# Для решения задачи не используйте встроенные функции и функции из модуля math.\n",
    "\n",
    "def my_round(num,n=0):\n",
    "    lst = str(num).split(sep='.')\n",
    "    cnum = lst[0]\n",
    "    dnum = lst[1]\n",
    "    if (n == 0):\n",
    "        if (int(dnum[0]) >= 5 and int(cnum) > 0):\n",
    "            return int(cnum) + 1\n",
    "        elif (int(dnum[0]) >=5 and int(cnum) < 0):\n",
    "            return int(cnum) - 1\n",
    "        else:\n",
    "            return int(cnum)\n",
    "    elif (n > 0):\n",
    "        if int(cnum) > 0:\n",
    "            if int(dnum[n]) >= 5:\n",
    "                res = int(dnum[:n]) + 1\n",
    "                return float(cnum) + float(res/10**n)\n",
    "            else:\n",
    "                res = int(dnum[:n])\n",
    "                return float(cnum) + float(res/10**n)\n",
    "        else:\n",
    "            if int(dnum[n]) >= 5:\n",
    "                res = int(dnum[:n]) + 1\n",
    "                return float(cnum) - float(res/10**n)\n",
    "            else:\n",
    "                res = int(dnum[:n])\n",
    "                return float(cnum) - float(res/10**n)\n",
    "            \n",
    "print('my_round(12.333,0)',my_round(12.333,0))\n",
    "print('my_round(12.733,0)',my_round(12.733,0))\n",
    "print('my_round(12.339,1)',my_round(12.339,1))\n",
    "print('my_round(12.199,1)',my_round(12.199,1))\n",
    "print('my_round(12.333,2)',my_round(12.333,2))\n",
    "print('my_round(12.338,2)',my_round(12.338,2))\n",
    "print('my_round(12.998,2)',my_round(12.998,2))\n",
    "print('my_round(12.998,2)',my_round(12.998,2))\n",
    "print('my_round(-12.333,1)',my_round(-12.333,1))\n",
    "print('my_round(-12.393,1)',my_round(-12.393,1))\n",
    "print('my_round(-12.339,2)',my_round(-12.339,2))\n",
    "print('my_round(-12.998,0)',my_round(-12.998,0))\n",
    "            "
   ]
  },
  {
   "cell_type": "code",
   "execution_count": 8,
   "metadata": {},
   "outputs": [
    {
     "name": "stdout",
     "output_type": "stream",
     "text": [
      "True\n",
      "False\n",
      "True\n"
     ]
    }
   ],
   "source": [
    "# Задание-2:\n",
    "# Дан шестизначный номер билета. Определить, является ли билет счастливым.\n",
    "# Решение реализовать в виде функции.\n",
    "# Билет считается счастливым, если сумма его первых и последних цифр равны.\n",
    "# !!!P.S.: функция не должна НИЧЕГО print'ить\n",
    "\n",
    "def lucky_ticket(num):\n",
    "    num = str(num)\n",
    "    sum1=sum2=0\n",
    "    for id,value in enumerate(num):\n",
    "        if id <= 2:\n",
    "            sum1 += int(value)\n",
    "        else:\n",
    "            sum2 += int(value)\n",
    "    if sum1 == sum2:\n",
    "        return True\n",
    "    else:\n",
    "        return False\n",
    "\n",
    "    \n",
    "print(lucky_ticket(123006))\n",
    "print(lucky_ticket(12321))\n",
    "print(lucky_ticket(436751))"
   ]
  },
  {
   "cell_type": "code",
   "execution_count": null,
   "metadata": {},
   "outputs": [],
   "source": []
  }
 ],
 "metadata": {
  "kernelspec": {
   "display_name": "Python 3",
   "language": "python",
   "name": "python3"
  },
  "language_info": {
   "codemirror_mode": {
    "name": "ipython",
    "version": 3
   },
   "file_extension": ".py",
   "mimetype": "text/x-python",
   "name": "python",
   "nbconvert_exporter": "python",
   "pygments_lexer": "ipython3",
   "version": "3.6.6"
  }
 },
 "nbformat": 4,
 "nbformat_minor": 2
}
