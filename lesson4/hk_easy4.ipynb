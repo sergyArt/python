{
 "cells": [
  {
   "cell_type": "code",
   "execution_count": 2,
   "metadata": {},
   "outputs": [
    {
     "data": {
      "text/plain": [
       "[1, 4, 16, 0]"
      ]
     },
     "execution_count": 2,
     "metadata": {},
     "output_type": "execute_result"
    }
   ],
   "source": [
    "# Задание-1:\n",
    "# Дан список, заполненный произвольными целыми числами. \n",
    "# Получить новый список, элементы которого будут\n",
    "# квадратами элементов исходного списка\n",
    "# [1, 2, 4, 0] --> [1, 4, 16, 0]\n",
    "\n",
    "import random\n",
    "#lst = [random.randint(-100,100) for i in range(5)]\n",
    "lst = [1,2,4,0]\n",
    "lst1 = [x**2 for x in lst]\n",
    "lst1"
   ]
  },
  {
   "cell_type": "code",
   "execution_count": 4,
   "metadata": {},
   "outputs": [
    {
     "data": {
      "text/plain": [
       "['яблоко']"
      ]
     },
     "execution_count": 4,
     "metadata": {},
     "output_type": "execute_result"
    }
   ],
   "source": [
    "# Задание-2:\n",
    "# Даны два списка фруктов.\n",
    "# Получить список фруктов, присутствующих в обоих исходных списках.\n",
    "fruit1 = ['яблоко','апельсин','манго','ананас','груша']\n",
    "fruit2 = ['яблоко','арбуз','дыня']\n",
    "all_fruit = [x for x in fruit1 if x in fruit2]\n",
    "all_fruit"
   ]
  },
  {
   "cell_type": "code",
   "execution_count": 6,
   "metadata": {},
   "outputs": [
    {
     "data": {
      "text/plain": [
       "[3, 9]"
      ]
     },
     "execution_count": 6,
     "metadata": {},
     "output_type": "execute_result"
    }
   ],
   "source": [
    "# Задание-3:\n",
    "# Дан список, заполненный произвольными числами.\n",
    "# Получить список из элементов исходного, удовлетворяющих следующим условиям:\n",
    "# + Элемент кратен 3\n",
    "# + Элемент положительный\n",
    "# + Элемент не кратен 4\n",
    "l = [1,0,3,8,9]\n",
    "res = [x for x in l if (x > 0) and (x % 3 == 0) and (x % 4 != 0)]\n",
    "res"
   ]
  },
  {
   "cell_type": "code",
   "execution_count": null,
   "metadata": {},
   "outputs": [],
   "source": []
  }
 ],
 "metadata": {
  "kernelspec": {
   "display_name": "Python 3",
   "language": "python",
   "name": "python3"
  },
  "language_info": {
   "codemirror_mode": {
    "name": "ipython",
    "version": 3
   },
   "file_extension": ".py",
   "mimetype": "text/x-python",
   "name": "python",
   "nbconvert_exporter": "python",
   "pygments_lexer": "ipython3",
   "version": "3.6.6"
  }
 },
 "nbformat": 4,
 "nbformat_minor": 2
}
